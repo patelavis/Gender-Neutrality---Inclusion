{
 "cells": [
  {
   "cell_type": "markdown",
   "id": "e9f83b9b",
   "metadata": {},
   "source": [
    "# Gender Neutrality & Inclusion\n",
    "\n",
    "> Problem:\n",
    "\n",
    "Companies are expected to be equal opportunity employers. Their recruitment and selection process is expected to provide equal opportunity irrespective of gender identity or expression, religion, color, sex, age, physical or mental disability, sexual orientation, or any other basis covered by local law. Removal of bias and providing equal opportunity to all applicants promotes access to the widest pool of talent. \n",
    "\n",
    "XyX corporation recruits employees for fixed Job Codes every year. Basis the applications received last year for each job code profile, a 'fitment %' percentage was determined based on selections made. XyX followed a fair and equitable approach by personally looking at all parameters and determining the right fit. This year the number of applicants has multiplied and they are looking at an ML model to predict the 'fitment %' for the applications received maintaining a fair and equitable approach.\n",
    "\n",
    "> Task: \n",
    "\n",
    "\n",
    "Build a model that calculates the 'fitment %' & detects the factor that influences relevancy and making sure that factor does not introduce inequality and/or bias in the' fitment %' by appropriate feature re-engineering. "
   ]
  },
  {
   "cell_type": "markdown",
   "id": "2fafb659",
   "metadata": {},
   "source": [
    "> Data Set\n",
    "\n",
    "```\n",
    "EmpID  -->  ID of the employee\n",
    "EmpName  -->  Name of the employee\n",
    "LanguageOfCommunication  -->  Communication language\n",
    "Age  -->  Age of the employee\n",
    "Gender  -->  Gender of the Employee\n",
    "JobProfileIDApplyingFor  -->  External Job ID\n",
    "HighestDegree  -->  Highest degree of the employee\n",
    "DegreeBranch  -->  Specialization of degree\n",
    "GraduatingInstitute  -->  Tier of Institute\n",
    "LatestDegreeCGPA  -->  CGPA obtained\n",
    "YearsOfExperince  -->  Number of years of experince (Relevant)\n",
    "GraduationYear  -->  Year of Graduation\n",
    "CurrentCTC  -->  Compensation received by current employer\n",
    "ExpectedCTC  -->  Expected Compensation\n",
    "MartialStatus  -->  Martial status of candidate\n",
    "EmpScore  -->  Rating given by recommender to the employee\n",
    "CurrentDesignation  -->  Current designation of the candidate\n",
    "CurrentCompanyType  -->  Type of employer company\n",
    "DepartmentInCompany  -->  Department of the employer company\n",
    "TotalLeavesTaken  -->  Total leaves taken by employee\n",
    "BiasInfluentialFactor  -->  Feature that introduces the most bias on the fitment %\n",
    "FitmentPercent  -->  % Fitment of the candidate to the job profile id basis background and other factors\n",
    "```"
   ]
  },
  {
   "cell_type": "markdown",
   "id": "8a4df467",
   "metadata": {
    "ExecuteTime": {
     "end_time": "2021-06-06T14:15:44.766076Z",
     "start_time": "2021-06-06T14:15:44.754045Z"
    }
   },
   "source": [
    "## Import dataset"
   ]
  },
  {
   "cell_type": "code",
   "execution_count": 1,
   "id": "9b99a623",
   "metadata": {
    "ExecuteTime": {
     "end_time": "2021-06-06T15:12:34.376799Z",
     "start_time": "2021-06-06T15:12:31.852825Z"
    }
   },
   "outputs": [
    {
     "name": "stderr",
     "output_type": "stream",
     "text": [
      "c:\\program files\\python39\\lib\\site-packages\\numpy\\_distributor_init.py:30: UserWarning: loaded more than 1 DLL from .libs:\n",
      "c:\\program files\\python39\\lib\\site-packages\\numpy\\.libs\\libopenblas.gk7gx5keq4f6uyo3p26ulgbqyhgqo7j4.gfortran-win_amd64.dll\n",
      "c:\\program files\\python39\\lib\\site-packages\\numpy\\.libs\\libopenblas.WCDJNK7YVMPZQ2ME2ZZHJJRJ3JIKNDB7.gfortran-win_amd64.dll\n",
      "  warnings.warn(\"loaded more than 1 DLL from .libs:\"\n"
     ]
    }
   ],
   "source": [
    "# import library\n",
    "import pandas as pd\n",
    "import numpy as np\n",
    "import matplotlib.pyplot as plt\n",
    "import seaborn as sns\n",
    "%matplotlib inline\n",
    "plt.style.use('dark_background')"
   ]
  },
  {
   "cell_type": "code",
   "execution_count": 2,
   "id": "d7764d8b",
   "metadata": {
    "ExecuteTime": {
     "end_time": "2021-06-06T15:12:34.640202Z",
     "start_time": "2021-06-06T15:12:34.379763Z"
    }
   },
   "outputs": [
    {
     "data": {
      "text/plain": [
       "((13645, 22), (8745, 20))"
      ]
     },
     "execution_count": 2,
     "metadata": {},
     "output_type": "execute_result"
    }
   ],
   "source": [
    "# Add train and test dataset\n",
    "df_train = pd.read_csv('Train.csv')\n",
    "df_test = pd.read_csv('Test.csv')\n",
    "\n",
    "# check dataset shape\n",
    "df_train.shape, df_test.shape"
   ]
  },
  {
   "cell_type": "code",
   "execution_count": 3,
   "id": "00626aae",
   "metadata": {
    "ExecuteTime": {
     "end_time": "2021-06-06T15:12:34.687518Z",
     "start_time": "2021-06-06T15:12:34.643197Z"
    },
    "scrolled": false
   },
   "outputs": [
    {
     "data": {
      "text/html": [
       "<div>\n",
       "<style scoped>\n",
       "    .dataframe tbody tr th:only-of-type {\n",
       "        vertical-align: middle;\n",
       "    }\n",
       "\n",
       "    .dataframe tbody tr th {\n",
       "        vertical-align: top;\n",
       "    }\n",
       "\n",
       "    .dataframe thead th {\n",
       "        text-align: right;\n",
       "    }\n",
       "</style>\n",
       "<table border=\"1\" class=\"dataframe\">\n",
       "  <thead>\n",
       "    <tr style=\"text-align: right;\">\n",
       "      <th></th>\n",
       "      <th>0</th>\n",
       "      <th>1</th>\n",
       "      <th>2</th>\n",
       "      <th>3</th>\n",
       "      <th>4</th>\n",
       "    </tr>\n",
       "  </thead>\n",
       "  <tbody>\n",
       "    <tr>\n",
       "      <th>EmpID</th>\n",
       "      <td>11041</td>\n",
       "      <td>15079</td>\n",
       "      <td>18638</td>\n",
       "      <td>3941</td>\n",
       "      <td>5936</td>\n",
       "    </tr>\n",
       "    <tr>\n",
       "      <th>EmpName</th>\n",
       "      <td>John</td>\n",
       "      <td>William</td>\n",
       "      <td>James</td>\n",
       "      <td>Charles</td>\n",
       "      <td>George</td>\n",
       "    </tr>\n",
       "    <tr>\n",
       "      <th>LanguageOfCommunication</th>\n",
       "      <td>English</td>\n",
       "      <td>English</td>\n",
       "      <td>English</td>\n",
       "      <td>English</td>\n",
       "      <td>English</td>\n",
       "    </tr>\n",
       "    <tr>\n",
       "      <th>Age</th>\n",
       "      <td>35</td>\n",
       "      <td>26</td>\n",
       "      <td>36</td>\n",
       "      <td>29</td>\n",
       "      <td>25</td>\n",
       "    </tr>\n",
       "    <tr>\n",
       "      <th>Gender</th>\n",
       "      <td>Male</td>\n",
       "      <td>Male</td>\n",
       "      <td>Female</td>\n",
       "      <td>Female</td>\n",
       "      <td>Male</td>\n",
       "    </tr>\n",
       "    <tr>\n",
       "      <th>JobProfileIDApplyingFor</th>\n",
       "      <td>JR85289</td>\n",
       "      <td>JR87525</td>\n",
       "      <td>JR87525</td>\n",
       "      <td>JR87525</td>\n",
       "      <td>JR70175</td>\n",
       "    </tr>\n",
       "    <tr>\n",
       "      <th>HighestDegree</th>\n",
       "      <td>B.Tech</td>\n",
       "      <td>B.Tech</td>\n",
       "      <td>PhD</td>\n",
       "      <td>BCA</td>\n",
       "      <td>Dual M.Tech</td>\n",
       "    </tr>\n",
       "    <tr>\n",
       "      <th>DegreeBranch</th>\n",
       "      <td>Electrical</td>\n",
       "      <td>Artificial Intelligence</td>\n",
       "      <td>Computer Science</td>\n",
       "      <td>Information Technology</td>\n",
       "      <td>Computer Science</td>\n",
       "    </tr>\n",
       "    <tr>\n",
       "      <th>GraduatingInstitute</th>\n",
       "      <td>Tier 1</td>\n",
       "      <td>Tier 3</td>\n",
       "      <td>Tier 1</td>\n",
       "      <td>Tier 2</td>\n",
       "      <td>Tier 3</td>\n",
       "    </tr>\n",
       "    <tr>\n",
       "      <th>LatestDegreeCGPA</th>\n",
       "      <td>7</td>\n",
       "      <td>7</td>\n",
       "      <td>6</td>\n",
       "      <td>5</td>\n",
       "      <td>8</td>\n",
       "    </tr>\n",
       "    <tr>\n",
       "      <th>YearsOfExperince</th>\n",
       "      <td>12</td>\n",
       "      <td>3</td>\n",
       "      <td>6</td>\n",
       "      <td>6</td>\n",
       "      <td>2</td>\n",
       "    </tr>\n",
       "    <tr>\n",
       "      <th>GraduationYear</th>\n",
       "      <td>2009</td>\n",
       "      <td>2018</td>\n",
       "      <td>2015</td>\n",
       "      <td>2015</td>\n",
       "      <td>2019</td>\n",
       "    </tr>\n",
       "    <tr>\n",
       "      <th>CurrentCTC</th>\n",
       "      <td>21</td>\n",
       "      <td>15</td>\n",
       "      <td>15</td>\n",
       "      <td>16</td>\n",
       "      <td>24</td>\n",
       "    </tr>\n",
       "    <tr>\n",
       "      <th>ExpectedCTC</th>\n",
       "      <td>26</td>\n",
       "      <td>19</td>\n",
       "      <td>24</td>\n",
       "      <td>24</td>\n",
       "      <td>32</td>\n",
       "    </tr>\n",
       "    <tr>\n",
       "      <th>MartialStatus</th>\n",
       "      <td>Married</td>\n",
       "      <td>Married</td>\n",
       "      <td>Single</td>\n",
       "      <td>Married</td>\n",
       "      <td>Married</td>\n",
       "    </tr>\n",
       "    <tr>\n",
       "      <th>EmpScore</th>\n",
       "      <td>5</td>\n",
       "      <td>5</td>\n",
       "      <td>5</td>\n",
       "      <td>5</td>\n",
       "      <td>5</td>\n",
       "    </tr>\n",
       "    <tr>\n",
       "      <th>CurrentDesignation</th>\n",
       "      <td>SSE</td>\n",
       "      <td>BA</td>\n",
       "      <td>SDE</td>\n",
       "      <td>SDE</td>\n",
       "      <td>SDE</td>\n",
       "    </tr>\n",
       "    <tr>\n",
       "      <th>CurrentCompanyType</th>\n",
       "      <td>Enterprise</td>\n",
       "      <td>MidSized</td>\n",
       "      <td>MidSized</td>\n",
       "      <td>Startup</td>\n",
       "      <td>Enterprise</td>\n",
       "    </tr>\n",
       "    <tr>\n",
       "      <th>DepartmentInCompany</th>\n",
       "      <td>Design</td>\n",
       "      <td>Engineering</td>\n",
       "      <td>Engineering</td>\n",
       "      <td>Product</td>\n",
       "      <td>Engineering</td>\n",
       "    </tr>\n",
       "    <tr>\n",
       "      <th>TotalLeavesTaken</th>\n",
       "      <td>20</td>\n",
       "      <td>6</td>\n",
       "      <td>19</td>\n",
       "      <td>16</td>\n",
       "      <td>10</td>\n",
       "    </tr>\n",
       "    <tr>\n",
       "      <th>BiasInfluentialFactor</th>\n",
       "      <td>YearsOfExperince</td>\n",
       "      <td>NaN</td>\n",
       "      <td>Gender</td>\n",
       "      <td>Gender</td>\n",
       "      <td>DegreeBranch</td>\n",
       "    </tr>\n",
       "    <tr>\n",
       "      <th>FitmentPercent</th>\n",
       "      <td>95.4</td>\n",
       "      <td>67.09</td>\n",
       "      <td>91.26</td>\n",
       "      <td>72.29</td>\n",
       "      <td>86.34</td>\n",
       "    </tr>\n",
       "  </tbody>\n",
       "</table>\n",
       "</div>"
      ],
      "text/plain": [
       "                                        0                        1  \\\n",
       "EmpID                               11041                    15079   \n",
       "EmpName                              John                  William   \n",
       "LanguageOfCommunication           English                  English   \n",
       "Age                                    35                       26   \n",
       "Gender                               Male                     Male   \n",
       "JobProfileIDApplyingFor           JR85289                  JR87525   \n",
       "HighestDegree                      B.Tech                   B.Tech   \n",
       "DegreeBranch                   Electrical  Artificial Intelligence   \n",
       "GraduatingInstitute                Tier 1                   Tier 3   \n",
       "LatestDegreeCGPA                        7                        7   \n",
       "YearsOfExperince                       12                        3   \n",
       "GraduationYear                       2009                     2018   \n",
       "CurrentCTC                             21                       15   \n",
       "ExpectedCTC                            26                       19   \n",
       "MartialStatus                     Married                  Married   \n",
       "EmpScore                                5                        5   \n",
       "CurrentDesignation                    SSE                       BA   \n",
       "CurrentCompanyType             Enterprise                 MidSized   \n",
       "DepartmentInCompany                Design              Engineering   \n",
       "TotalLeavesTaken                       20                        6   \n",
       "BiasInfluentialFactor    YearsOfExperince                      NaN   \n",
       "FitmentPercent                       95.4                    67.09   \n",
       "\n",
       "                                        2                       3  \\\n",
       "EmpID                               18638                    3941   \n",
       "EmpName                             James                 Charles   \n",
       "LanguageOfCommunication           English                 English   \n",
       "Age                                    36                      29   \n",
       "Gender                             Female                  Female   \n",
       "JobProfileIDApplyingFor           JR87525                 JR87525   \n",
       "HighestDegree                         PhD                     BCA   \n",
       "DegreeBranch             Computer Science  Information Technology   \n",
       "GraduatingInstitute                Tier 1                  Tier 2   \n",
       "LatestDegreeCGPA                        6                       5   \n",
       "YearsOfExperince                        6                       6   \n",
       "GraduationYear                       2015                    2015   \n",
       "CurrentCTC                             15                      16   \n",
       "ExpectedCTC                            24                      24   \n",
       "MartialStatus                      Single                 Married   \n",
       "EmpScore                                5                       5   \n",
       "CurrentDesignation                    SDE                     SDE   \n",
       "CurrentCompanyType               MidSized                 Startup   \n",
       "DepartmentInCompany           Engineering                 Product   \n",
       "TotalLeavesTaken                       19                      16   \n",
       "BiasInfluentialFactor              Gender                  Gender   \n",
       "FitmentPercent                      91.26                   72.29   \n",
       "\n",
       "                                        4  \n",
       "EmpID                                5936  \n",
       "EmpName                            George  \n",
       "LanguageOfCommunication           English  \n",
       "Age                                    25  \n",
       "Gender                               Male  \n",
       "JobProfileIDApplyingFor           JR70175  \n",
       "HighestDegree                 Dual M.Tech  \n",
       "DegreeBranch             Computer Science  \n",
       "GraduatingInstitute                Tier 3  \n",
       "LatestDegreeCGPA                        8  \n",
       "YearsOfExperince                        2  \n",
       "GraduationYear                       2019  \n",
       "CurrentCTC                             24  \n",
       "ExpectedCTC                            32  \n",
       "MartialStatus                     Married  \n",
       "EmpScore                                5  \n",
       "CurrentDesignation                    SDE  \n",
       "CurrentCompanyType             Enterprise  \n",
       "DepartmentInCompany           Engineering  \n",
       "TotalLeavesTaken                       10  \n",
       "BiasInfluentialFactor        DegreeBranch  \n",
       "FitmentPercent                      86.34  "
      ]
     },
     "execution_count": 3,
     "metadata": {},
     "output_type": "execute_result"
    }
   ],
   "source": [
    "# View first 5 rows from train dataset\n",
    "df_train.head().T"
   ]
  },
  {
   "cell_type": "code",
   "execution_count": 4,
   "id": "42fb2955",
   "metadata": {
    "ExecuteTime": {
     "end_time": "2021-06-06T15:12:34.703020Z",
     "start_time": "2021-06-06T15:12:34.691401Z"
    }
   },
   "outputs": [
    {
     "data": {
      "text/plain": [
       "Index(['EmpID', 'EmpName', 'LanguageOfCommunication', 'Age', 'Gender',\n",
       "       'JobProfileIDApplyingFor', 'HighestDegree', 'DegreeBranch',\n",
       "       'GraduatingInstitute', 'LatestDegreeCGPA', 'YearsOfExperince',\n",
       "       'GraduationYear', 'CurrentCTC', 'ExpectedCTC', 'MartialStatus',\n",
       "       'EmpScore', 'CurrentDesignation', 'CurrentCompanyType',\n",
       "       'DepartmentInCompany', 'TotalLeavesTaken', 'BiasInfluentialFactor',\n",
       "       'FitmentPercent'],\n",
       "      dtype='object')"
      ]
     },
     "execution_count": 4,
     "metadata": {},
     "output_type": "execute_result"
    }
   ],
   "source": [
    "# View all columns name in train dataset\n",
    "df_train.columns"
   ]
  },
  {
   "cell_type": "code",
   "execution_count": 5,
   "id": "7534fa8a",
   "metadata": {
    "ExecuteTime": {
     "end_time": "2021-06-06T15:12:34.734553Z",
     "start_time": "2021-06-06T15:12:34.707897Z"
    }
   },
   "outputs": [
    {
     "data": {
      "text/html": [
       "<div>\n",
       "<style scoped>\n",
       "    .dataframe tbody tr th:only-of-type {\n",
       "        vertical-align: middle;\n",
       "    }\n",
       "\n",
       "    .dataframe tbody tr th {\n",
       "        vertical-align: top;\n",
       "    }\n",
       "\n",
       "    .dataframe thead th {\n",
       "        text-align: right;\n",
       "    }\n",
       "</style>\n",
       "<table border=\"1\" class=\"dataframe\">\n",
       "  <thead>\n",
       "    <tr style=\"text-align: right;\">\n",
       "      <th></th>\n",
       "      <th>0</th>\n",
       "      <th>1</th>\n",
       "      <th>2</th>\n",
       "      <th>3</th>\n",
       "      <th>4</th>\n",
       "    </tr>\n",
       "  </thead>\n",
       "  <tbody>\n",
       "    <tr>\n",
       "      <th>EmpID</th>\n",
       "      <td>5664</td>\n",
       "      <td>23568</td>\n",
       "      <td>21490</td>\n",
       "      <td>8363</td>\n",
       "      <td>6165</td>\n",
       "    </tr>\n",
       "    <tr>\n",
       "      <th>EmpName</th>\n",
       "      <td>Theo</td>\n",
       "      <td>Vernie</td>\n",
       "      <td>Wendell</td>\n",
       "      <td>West</td>\n",
       "      <td>Alford</td>\n",
       "    </tr>\n",
       "    <tr>\n",
       "      <th>LanguageOfCommunication</th>\n",
       "      <td>Native</td>\n",
       "      <td>English</td>\n",
       "      <td>English</td>\n",
       "      <td>Hindi</td>\n",
       "      <td>Hindi</td>\n",
       "    </tr>\n",
       "    <tr>\n",
       "      <th>Age</th>\n",
       "      <td>35</td>\n",
       "      <td>35</td>\n",
       "      <td>28</td>\n",
       "      <td>37</td>\n",
       "      <td>36</td>\n",
       "    </tr>\n",
       "    <tr>\n",
       "      <th>Gender</th>\n",
       "      <td>Male</td>\n",
       "      <td>Male</td>\n",
       "      <td>Male</td>\n",
       "      <td>Male</td>\n",
       "      <td>Female</td>\n",
       "    </tr>\n",
       "    <tr>\n",
       "      <th>JobProfileIDApplyingFor</th>\n",
       "      <td>JR85289</td>\n",
       "      <td>JR85289</td>\n",
       "      <td>JR87525</td>\n",
       "      <td>JR87525</td>\n",
       "      <td>JR85289</td>\n",
       "    </tr>\n",
       "    <tr>\n",
       "      <th>HighestDegree</th>\n",
       "      <td>PhD</td>\n",
       "      <td>B.Tech</td>\n",
       "      <td>M.Tech</td>\n",
       "      <td>MS</td>\n",
       "      <td>PhD</td>\n",
       "    </tr>\n",
       "    <tr>\n",
       "      <th>DegreeBranch</th>\n",
       "      <td>Information Technology</td>\n",
       "      <td>Information Technology</td>\n",
       "      <td>Artificial Intelligence</td>\n",
       "      <td>Computer Science</td>\n",
       "      <td>Artificial Intelligence</td>\n",
       "    </tr>\n",
       "    <tr>\n",
       "      <th>GraduatingInstitute</th>\n",
       "      <td>Tier 2</td>\n",
       "      <td>Tier 3</td>\n",
       "      <td>Tier 2</td>\n",
       "      <td>Tier 2</td>\n",
       "      <td>Tier 2</td>\n",
       "    </tr>\n",
       "    <tr>\n",
       "      <th>LatestDegreeCGPA</th>\n",
       "      <td>5</td>\n",
       "      <td>9</td>\n",
       "      <td>9</td>\n",
       "      <td>8</td>\n",
       "      <td>7</td>\n",
       "    </tr>\n",
       "    <tr>\n",
       "      <th>YearsOfExperince</th>\n",
       "      <td>5</td>\n",
       "      <td>12</td>\n",
       "      <td>2</td>\n",
       "      <td>11</td>\n",
       "      <td>6</td>\n",
       "    </tr>\n",
       "    <tr>\n",
       "      <th>GraduationYear</th>\n",
       "      <td>2016</td>\n",
       "      <td>2009</td>\n",
       "      <td>2019</td>\n",
       "      <td>2010</td>\n",
       "      <td>2015</td>\n",
       "    </tr>\n",
       "    <tr>\n",
       "      <th>CurrentCTC</th>\n",
       "      <td>27</td>\n",
       "      <td>29</td>\n",
       "      <td>18</td>\n",
       "      <td>7</td>\n",
       "      <td>22</td>\n",
       "    </tr>\n",
       "    <tr>\n",
       "      <th>ExpectedCTC</th>\n",
       "      <td>34</td>\n",
       "      <td>33</td>\n",
       "      <td>25</td>\n",
       "      <td>12</td>\n",
       "      <td>32</td>\n",
       "    </tr>\n",
       "    <tr>\n",
       "      <th>MartialStatus</th>\n",
       "      <td>Single</td>\n",
       "      <td>Married</td>\n",
       "      <td>Married</td>\n",
       "      <td>Single</td>\n",
       "      <td>Married</td>\n",
       "    </tr>\n",
       "    <tr>\n",
       "      <th>EmpScore</th>\n",
       "      <td>4</td>\n",
       "      <td>4</td>\n",
       "      <td>3</td>\n",
       "      <td>5</td>\n",
       "      <td>4</td>\n",
       "    </tr>\n",
       "    <tr>\n",
       "      <th>CurrentDesignation</th>\n",
       "      <td>SDE</td>\n",
       "      <td>EM</td>\n",
       "      <td>SDE</td>\n",
       "      <td>DS</td>\n",
       "      <td>SDE</td>\n",
       "    </tr>\n",
       "    <tr>\n",
       "      <th>CurrentCompanyType</th>\n",
       "      <td>Enterprise</td>\n",
       "      <td>Enterprise</td>\n",
       "      <td>Startup</td>\n",
       "      <td>Enterprise</td>\n",
       "      <td>Startup</td>\n",
       "    </tr>\n",
       "    <tr>\n",
       "      <th>DepartmentInCompany</th>\n",
       "      <td>Finance</td>\n",
       "      <td>Engineering</td>\n",
       "      <td>Engineering</td>\n",
       "      <td>Product</td>\n",
       "      <td>Engineering</td>\n",
       "    </tr>\n",
       "    <tr>\n",
       "      <th>TotalLeavesTaken</th>\n",
       "      <td>18</td>\n",
       "      <td>8</td>\n",
       "      <td>18</td>\n",
       "      <td>17</td>\n",
       "      <td>9</td>\n",
       "    </tr>\n",
       "  </tbody>\n",
       "</table>\n",
       "</div>"
      ],
      "text/plain": [
       "                                              0                       1  \\\n",
       "EmpID                                      5664                   23568   \n",
       "EmpName                                    Theo                  Vernie   \n",
       "LanguageOfCommunication                  Native                 English   \n",
       "Age                                          35                      35   \n",
       "Gender                                     Male                    Male   \n",
       "JobProfileIDApplyingFor                 JR85289                 JR85289   \n",
       "HighestDegree                               PhD                  B.Tech   \n",
       "DegreeBranch             Information Technology  Information Technology   \n",
       "GraduatingInstitute                      Tier 2                  Tier 3   \n",
       "LatestDegreeCGPA                              5                       9   \n",
       "YearsOfExperince                              5                      12   \n",
       "GraduationYear                             2016                    2009   \n",
       "CurrentCTC                                   27                      29   \n",
       "ExpectedCTC                                  34                      33   \n",
       "MartialStatus                            Single                 Married   \n",
       "EmpScore                                      4                       4   \n",
       "CurrentDesignation                          SDE                      EM   \n",
       "CurrentCompanyType                   Enterprise              Enterprise   \n",
       "DepartmentInCompany                     Finance             Engineering   \n",
       "TotalLeavesTaken                             18                       8   \n",
       "\n",
       "                                               2                 3  \\\n",
       "EmpID                                      21490              8363   \n",
       "EmpName                                  Wendell              West   \n",
       "LanguageOfCommunication                  English             Hindi   \n",
       "Age                                           28                37   \n",
       "Gender                                      Male              Male   \n",
       "JobProfileIDApplyingFor                  JR87525           JR87525   \n",
       "HighestDegree                             M.Tech                MS   \n",
       "DegreeBranch             Artificial Intelligence  Computer Science   \n",
       "GraduatingInstitute                       Tier 2            Tier 2   \n",
       "LatestDegreeCGPA                               9                 8   \n",
       "YearsOfExperince                               2                11   \n",
       "GraduationYear                              2019              2010   \n",
       "CurrentCTC                                    18                 7   \n",
       "ExpectedCTC                                   25                12   \n",
       "MartialStatus                            Married            Single   \n",
       "EmpScore                                       3                 5   \n",
       "CurrentDesignation                           SDE                DS   \n",
       "CurrentCompanyType                       Startup        Enterprise   \n",
       "DepartmentInCompany                  Engineering           Product   \n",
       "TotalLeavesTaken                              18                17   \n",
       "\n",
       "                                               4  \n",
       "EmpID                                       6165  \n",
       "EmpName                                   Alford  \n",
       "LanguageOfCommunication                    Hindi  \n",
       "Age                                           36  \n",
       "Gender                                    Female  \n",
       "JobProfileIDApplyingFor                  JR85289  \n",
       "HighestDegree                                PhD  \n",
       "DegreeBranch             Artificial Intelligence  \n",
       "GraduatingInstitute                       Tier 2  \n",
       "LatestDegreeCGPA                               7  \n",
       "YearsOfExperince                               6  \n",
       "GraduationYear                              2015  \n",
       "CurrentCTC                                    22  \n",
       "ExpectedCTC                                   32  \n",
       "MartialStatus                            Married  \n",
       "EmpScore                                       4  \n",
       "CurrentDesignation                           SDE  \n",
       "CurrentCompanyType                       Startup  \n",
       "DepartmentInCompany                  Engineering  \n",
       "TotalLeavesTaken                               9  "
      ]
     },
     "execution_count": 5,
     "metadata": {},
     "output_type": "execute_result"
    }
   ],
   "source": [
    "# View first 5 rows from test dataset\n",
    "df_test.head().T"
   ]
  },
  {
   "cell_type": "code",
   "execution_count": 6,
   "id": "16b99aa9",
   "metadata": {
    "ExecuteTime": {
     "end_time": "2021-06-06T15:12:34.750334Z",
     "start_time": "2021-06-06T15:12:34.738845Z"
    }
   },
   "outputs": [
    {
     "data": {
      "text/plain": [
       "Index(['EmpID', 'EmpName', 'LanguageOfCommunication', 'Age', 'Gender',\n",
       "       'JobProfileIDApplyingFor', 'HighestDegree', 'DegreeBranch',\n",
       "       'GraduatingInstitute', 'LatestDegreeCGPA', 'YearsOfExperince',\n",
       "       'GraduationYear', 'CurrentCTC', 'ExpectedCTC', 'MartialStatus',\n",
       "       'EmpScore', 'CurrentDesignation', 'CurrentCompanyType',\n",
       "       'DepartmentInCompany', 'TotalLeavesTaken'],\n",
       "      dtype='object')"
      ]
     },
     "execution_count": 6,
     "metadata": {},
     "output_type": "execute_result"
    }
   ],
   "source": [
    "# View all columns name in test dataset\n",
    "df_test.columns"
   ]
  },
  {
   "cell_type": "code",
   "execution_count": 7,
   "id": "7fcb9e8c",
   "metadata": {
    "ExecuteTime": {
     "end_time": "2021-06-06T15:12:34.796829Z",
     "start_time": "2021-06-06T15:12:34.757320Z"
    }
   },
   "outputs": [
    {
     "name": "stdout",
     "output_type": "stream",
     "text": [
      "<class 'pandas.core.frame.DataFrame'>\n",
      "RangeIndex: 13645 entries, 0 to 13644\n",
      "Data columns (total 22 columns):\n",
      " #   Column                   Non-Null Count  Dtype  \n",
      "---  ------                   --------------  -----  \n",
      " 0   EmpID                    13645 non-null  int64  \n",
      " 1   EmpName                  13645 non-null  object \n",
      " 2   LanguageOfCommunication  13645 non-null  object \n",
      " 3   Age                      13645 non-null  int64  \n",
      " 4   Gender                   13645 non-null  object \n",
      " 5   JobProfileIDApplyingFor  13645 non-null  object \n",
      " 6   HighestDegree            13645 non-null  object \n",
      " 7   DegreeBranch             13645 non-null  object \n",
      " 8   GraduatingInstitute      13645 non-null  object \n",
      " 9   LatestDegreeCGPA         13645 non-null  int64  \n",
      " 10  YearsOfExperince         13645 non-null  int64  \n",
      " 11  GraduationYear           13645 non-null  int64  \n",
      " 12  CurrentCTC               13645 non-null  int64  \n",
      " 13  ExpectedCTC              13645 non-null  int64  \n",
      " 14  MartialStatus            13645 non-null  object \n",
      " 15  EmpScore                 13645 non-null  int64  \n",
      " 16  CurrentDesignation       13645 non-null  object \n",
      " 17  CurrentCompanyType       13645 non-null  object \n",
      " 18  DepartmentInCompany      13645 non-null  object \n",
      " 19  TotalLeavesTaken         13645 non-null  int64  \n",
      " 20  BiasInfluentialFactor    10309 non-null  object \n",
      " 21  FitmentPercent           13645 non-null  float64\n",
      "dtypes: float64(1), int64(9), object(12)\n",
      "memory usage: 2.3+ MB\n"
     ]
    }
   ],
   "source": [
    "# view train data information\n",
    "df_train.info()"
   ]
  },
  {
   "cell_type": "markdown",
   "id": "ec8871c0",
   "metadata": {},
   "source": [
    "### Show the counts of observations in each categorical bin using bars."
   ]
  },
  {
   "cell_type": "code",
   "execution_count": 8,
   "id": "49cb67c8",
   "metadata": {
    "ExecuteTime": {
     "end_time": "2021-06-06T15:12:35.361467Z",
     "start_time": "2021-06-06T15:12:34.800757Z"
    }
   },
   "outputs": [
    {
     "name": "stderr",
     "output_type": "stream",
     "text": [
      "c:\\program files\\python39\\lib\\site-packages\\seaborn\\_decorators.py:36: FutureWarning: Pass the following variable as a keyword arg: x. From version 0.12, the only valid positional argument will be `data`, and passing other arguments without an explicit keyword will result in an error or misinterpretation.\n",
      "  warnings.warn(\n"
     ]
    },
    {
     "data": {
      "image/png": "[encoded data removed]",
      "text/plain": [
       "<Figure size 864x360 with 1 Axes>"
      ]
     },
     "metadata": {},
     "output_type": "display_data"
    }
   ],
   "source": [
    "# Show value counts for a Age variable\n",
    "plt.figure(figsize=(12, 5))\n",
    "sns.countplot(df_train['Age']);"
   ]
  },
  {
   "cell_type": "code",
   "execution_count": 9,
   "id": "7b703757",
   "metadata": {
    "ExecuteTime": {
     "end_time": "2021-06-06T15:12:35.531889Z",
     "start_time": "2021-06-06T15:12:35.364363Z"
    }
   },
   "outputs": [
    {
     "data": {
      "image/png": "[encoded data removed]",
      "text/plain": [
       "<Figure size 576x360 with 1 Axes>"
      ]
     },
     "metadata": {},
     "output_type": "display_data"
    }
   ],
   "source": [
    "# Show value counts for a Graduating Institute variable\n",
    "plt.figure(figsize=(8, 5))\n",
    "sns.countplot(x='GraduatingInstitute',data=df_train);"
   ]
  },
  {
   "cell_type": "code",
   "execution_count": 10,
   "id": "46433e70",
   "metadata": {
    "ExecuteTime": {
     "end_time": "2021-06-06T15:12:35.782406Z",
     "start_time": "2021-06-06T15:12:35.534123Z"
    }
   },
   "outputs": [
    {
     "data": {
      "image/png": "[encoded data removed]",
      "text/plain": [
       "<Figure size 576x360 with 1 Axes>"
      ]
     },
     "metadata": {},
     "output_type": "display_data"
    }
   ],
   "source": [
    "# Show value counts for a Highest Degree variable\n",
    "plt.figure(figsize=(8, 5))\n",
    "sns.countplot(x='HighestDegree',data=df_train)\n",
    "plt.xticks(rotation=30);"
   ]
  },
  {
   "cell_type": "code",
   "execution_count": 11,
   "id": "0fde1503",
   "metadata": {
    "ExecuteTime": {
     "end_time": "2021-06-06T15:12:36.046757Z",
     "start_time": "2021-06-06T15:12:35.784379Z"
    }
   },
   "outputs": [
    {
     "data": {
      "image/png": "[encoded data removed]",
      "text/plain": [
       "<Figure size 576x360 with 1 Axes>"
      ]
     },
     "metadata": {},
     "output_type": "display_data"
    }
   ],
   "source": [
    "# Show value counts for a Gender variable\n",
    "plt.figure(figsize=(8, 5))\n",
    "sns.countplot(x='Gender', data=df_train);"
   ]
  },
  {
   "cell_type": "code",
   "execution_count": 12,
   "id": "ea78a249",
   "metadata": {
    "ExecuteTime": {
     "end_time": "2021-06-06T15:12:36.263709Z",
     "start_time": "2021-06-06T15:12:36.049526Z"
    }
   },
   "outputs": [
    {
     "data": {
      "image/png": "[encoded data removed]",
      "text/plain": [
       "<Figure size 576x360 with 1 Axes>"
      ]
     },
     "metadata": {},
     "output_type": "display_data"
    }
   ],
   "source": [
    "# Show value counts for a Latest Degree CGPA variable\n",
    "plt.figure(figsize=(8, 5))\n",
    "sns.countplot(x='LatestDegreeCGPA',data=df_train);"
   ]
  },
  {
   "cell_type": "code",
   "execution_count": 13,
   "id": "00357396",
   "metadata": {
    "ExecuteTime": {
     "end_time": "2021-06-06T15:12:36.497617Z",
     "start_time": "2021-06-06T15:12:36.266529Z"
    }
   },
   "outputs": [
    {
     "data": {
      "image/png": "[encoded data removed]",
      "text/plain": [
       "<Figure size 576x360 with 1 Axes>"
      ]
     },
     "metadata": {},
     "output_type": "display_data"
    }
   ],
   "source": [
    "# Show value counts for a Degree Branch variable\n",
    "plt.figure(figsize=(8, 5))\n",
    "sns.countplot(x='DegreeBranch',data=df_train)\n",
    "plt.xticks(rotation=30);"
   ]
  },
  {
   "cell_type": "code",
   "execution_count": 14,
   "id": "af625df3",
   "metadata": {
    "ExecuteTime": {
     "end_time": "2021-06-06T15:12:36.746033Z",
     "start_time": "2021-06-06T15:12:36.499412Z"
    }
   },
   "outputs": [
    {
     "data": {
      "image/png": "[encoded data removed]",
      "text/plain": [
       "<Figure size 576x360 with 1 Axes>"
      ]
     },
     "metadata": {},
     "output_type": "display_data"
    }
   ],
   "source": [
    "# Show value counts for a Graduation Year variable\n",
    "plt.figure(figsize=(8, 5))\n",
    "sns.countplot(x='GraduationYear',data=df_train);"
   ]
  },
  {
   "cell_type": "code",
   "execution_count": 15,
   "id": "06f5a1bb",
   "metadata": {
    "ExecuteTime": {
     "end_time": "2021-06-06T15:12:36.980251Z",
     "start_time": "2021-06-06T15:12:36.749888Z"
    }
   },
   "outputs": [
    {
     "data": {
      "image/png": "[encoded data removed]",
      "text/plain": [
       "<Figure size 576x360 with 1 Axes>"
      ]
     },
     "metadata": {},
     "output_type": "display_data"
    }
   ],
   "source": [
    "# Show value counts for a Year of Expreriance variable\n",
    "plt.figure(figsize=(8, 5))\n",
    "sns.countplot(x='YearsOfExperince',data=df_train);"
   ]
  },
  {
   "cell_type": "code",
   "execution_count": 16,
   "id": "d608d02c",
   "metadata": {
    "ExecuteTime": {
     "end_time": "2021-06-06T15:12:37.328015Z",
     "start_time": "2021-06-06T15:12:36.982249Z"
    }
   },
   "outputs": [
    {
     "data": {
      "image/png": "[encoded data removed]",
      "text/plain": [
       "<Figure size 864x360 with 1 Axes>"
      ]
     },
     "metadata": {},
     "output_type": "display_data"
    }
   ],
   "source": [
    "# Show value counts for a Current CTC variable\n",
    "plt.figure(figsize=(12, 5))\n",
    "sns.countplot(x='CurrentCTC',data=df_train);"
   ]
  },
  {
   "cell_type": "code",
   "execution_count": 17,
   "id": "c00f6eb7",
   "metadata": {
    "ExecuteTime": {
     "end_time": "2021-06-06T15:12:37.705691Z",
     "start_time": "2021-06-06T15:12:37.330850Z"
    }
   },
   "outputs": [
    {
     "data": {
      "image/png": "[encoded data removed]",
      "text/plain": [
       "<Figure size 864x360 with 1 Axes>"
      ]
     },
     "metadata": {},
     "output_type": "display_data"
    }
   ],
   "source": [
    "# Show value counts for a Expected CTC variable\n",
    "plt.figure(figsize=(12, 5))\n",
    "sns.countplot(x='ExpectedCTC',data=df_train);"
   ]
  },
  {
   "cell_type": "code",
   "execution_count": 18,
   "id": "827b625f",
   "metadata": {
    "ExecuteTime": {
     "end_time": "2021-06-06T15:12:37.875590Z",
     "start_time": "2021-06-06T15:12:37.707601Z"
    }
   },
   "outputs": [
    {
     "data": {
      "image/png": "[encoded data removed]",
      "text/plain": [
       "<Figure size 576x360 with 1 Axes>"
      ]
     },
     "metadata": {},
     "output_type": "display_data"
    }
   ],
   "source": [
    "# Show value counts for a Martial Status variable\n",
    "plt.figure(figsize=(8, 5))\n",
    "sns.countplot(x='MartialStatus',data=df_train);"
   ]
  },
  {
   "cell_type": "code",
   "execution_count": 19,
   "id": "8aae397a",
   "metadata": {
    "ExecuteTime": {
     "end_time": "2021-06-06T15:12:38.621359Z",
     "start_time": "2021-06-06T15:12:37.878582Z"
    }
   },
   "outputs": [
    {
     "data": {
      "text/plain": [
       "<Figure size 576x504 with 0 Axes>"
      ]
     },
     "metadata": {},
     "output_type": "display_data"
    },
    {
     "data": {
      "image/png": "[encoded data removed]",
      "text/plain": [
       "<Figure size 432x432 with 3 Axes>"
      ]
     },
     "metadata": {},
     "output_type": "display_data"
    }
   ],
   "source": [
    "# In the simplest invocation Current CTC and Expected CTC\n",
    "plt.figure(figsize=(8, 7))\n",
    "sns.jointplot(x='CurrentCTC',y='ExpectedCTC',data=df_train);"
   ]
  },
  {
   "cell_type": "code",
   "execution_count": 20,
   "id": "8d121196",
   "metadata": {
    "ExecuteTime": {
     "end_time": "2021-06-06T15:12:38.794063Z",
     "start_time": "2021-06-06T15:12:38.625346Z"
    }
   },
   "outputs": [
    {
     "data": {
      "image/png": "[encoded data removed]",
      "text/plain": [
       "<Figure size 576x360 with 1 Axes>"
      ]
     },
     "metadata": {},
     "output_type": "display_data"
    }
   ],
   "source": [
    "# Show value counts for a Emp Score variable\n",
    "plt.figure(figsize=(8, 5))\n",
    "sns.countplot(x='EmpScore', data=df_train);"
   ]
  },
  {
   "cell_type": "code",
   "execution_count": 21,
   "id": "459de95f",
   "metadata": {
    "ExecuteTime": {
     "end_time": "2021-06-06T15:12:39.043844Z",
     "start_time": "2021-06-06T15:12:38.797037Z"
    }
   },
   "outputs": [
    {
     "data": {
      "image/png": "[encoded data removed]",
      "text/plain": [
       "<Figure size 576x360 with 1 Axes>"
      ]
     },
     "metadata": {},
     "output_type": "display_data"
    }
   ],
   "source": [
    "# Show value counts for a EMP Score variable\n",
    "plt.figure(figsize=(8, 5))\n",
    "sns.countplot(x='EmpScore',data=df_train);"
   ]
  },
  {
   "cell_type": "code",
   "execution_count": 22,
   "id": "db6c2506",
   "metadata": {
    "ExecuteTime": {
     "end_time": "2021-06-06T15:12:39.248018Z",
     "start_time": "2021-06-06T15:12:39.046785Z"
    }
   },
   "outputs": [
    {
     "data": {
      "image/png": "[encoded data removed]",
      "text/plain": [
       "<Figure size 576x360 with 1 Axes>"
      ]
     },
     "metadata": {},
     "output_type": "display_data"
    }
   ],
   "source": [
    "# Show value counts for a Current Company Type variable\n",
    "plt.figure(figsize=(8, 5))\n",
    "sns.countplot(x='CurrentCompanyType',data=df_train);"
   ]
  },
  {
   "cell_type": "code",
   "execution_count": 23,
   "id": "e6f3feaf",
   "metadata": {
    "ExecuteTime": {
     "end_time": "2021-06-06T15:12:39.467069Z",
     "start_time": "2021-06-06T15:12:39.249946Z"
    }
   },
   "outputs": [
    {
     "data": {
      "image/png": "[encoded data removed]",
      "text/plain": [
       "<Figure size 576x360 with 1 Axes>"
      ]
     },
     "metadata": {},
     "output_type": "display_data"
    }
   ],
   "source": [
    "# Show value counts for a Department In Company variable\n",
    "plt.figure(figsize=(8, 5))\n",
    "sns.countplot(x='DepartmentInCompany',data=df_train);"
   ]
  },
  {
   "cell_type": "code",
   "execution_count": 24,
   "id": "8b90f406",
   "metadata": {
    "ExecuteTime": {
     "end_time": "2021-06-06T15:12:39.748700Z",
     "start_time": "2021-06-06T15:12:39.471916Z"
    }
   },
   "outputs": [
    {
     "data": {
      "text/plain": [
       "<AxesSubplot:xlabel='TotalLeavesTaken', ylabel='count'>"
      ]
     },
     "execution_count": 24,
     "metadata": {},
     "output_type": "execute_result"
    },
    {
     "data": {
      "image/png": "[encoded data removed]",
      "text/plain": [
       "<Figure size 720x432 with 1 Axes>"
      ]
     },
     "metadata": {},
     "output_type": "display_data"
    }
   ],
   "source": [
    "# Show value counts for a Total Leaves Taken variable\n",
    "plt.figure(figsize=(10, 6))\n",
    "sns.countplot(x='TotalLeavesTaken', data=df_train)"
   ]
  },
  {
   "cell_type": "code",
   "execution_count": 25,
   "id": "cc47d29c",
   "metadata": {
    "ExecuteTime": {
     "end_time": "2021-06-06T15:12:39.778909Z",
     "start_time": "2021-06-06T15:12:39.756923Z"
    }
   },
   "outputs": [
    {
     "data": {
      "text/plain": [
       "EmpID                         0\n",
       "EmpName                       0\n",
       "LanguageOfCommunication       0\n",
       "Age                           0\n",
       "Gender                        0\n",
       "JobProfileIDApplyingFor       0\n",
       "HighestDegree                 0\n",
       "DegreeBranch                  0\n",
       "GraduatingInstitute           0\n",
       "LatestDegreeCGPA              0\n",
       "YearsOfExperince              0\n",
       "GraduationYear                0\n",
       "CurrentCTC                    0\n",
       "ExpectedCTC                   0\n",
       "MartialStatus                 0\n",
       "EmpScore                      0\n",
       "CurrentDesignation            0\n",
       "CurrentCompanyType            0\n",
       "DepartmentInCompany           0\n",
       "TotalLeavesTaken              0\n",
       "BiasInfluentialFactor      3336\n",
       "FitmentPercent                0\n",
       "dtype: int64"
      ]
     },
     "execution_count": 25,
     "metadata": {},
     "output_type": "execute_result"
    }
   ],
   "source": [
    "# Check any Null values in train dataset\n",
    "df_train.isna().sum()"
   ]
  },
  {
   "cell_type": "code",
   "execution_count": 26,
   "id": "1fddd3a5",
   "metadata": {
    "ExecuteTime": {
     "end_time": "2021-06-06T15:12:39.794195Z",
     "start_time": "2021-06-06T15:12:39.783937Z"
    }
   },
   "outputs": [
    {
     "data": {
      "text/plain": [
       "array(['YearsOfExperince', nan, 'Gender', 'DegreeBranch',\n",
       "       'CurrentCompanyType', 'MartialStatus', 'HighestDegree', 'EmpScore',\n",
       "       'Ethinicity', 'LatestDegreeCGPA'], dtype=object)"
      ]
     },
     "execution_count": 26,
     "metadata": {},
     "output_type": "execute_result"
    }
   ],
   "source": [
    "# Check Unique values in Bias In Fluential Factor\n",
    "df_train.BiasInfluentialFactor.unique()"
   ]
  },
  {
   "cell_type": "markdown",
   "id": "02d5f6ed",
   "metadata": {},
   "source": [
    "> Note: IN train and test data \"EmpID\" is necessary for training data we make to Index and reload the data"
   ]
  },
  {
   "cell_type": "code",
   "execution_count": 27,
   "id": "a8427cdf",
   "metadata": {
    "ExecuteTime": {
     "end_time": "2021-06-06T15:12:39.920867Z",
     "start_time": "2021-06-06T15:12:39.797110Z"
    }
   },
   "outputs": [],
   "source": [
    "# reload data because I have to add EmpID as index\n",
    "df_train = pd.read_csv('Train.csv', index_col=0)\n",
    "df_test = pd.read_csv('Test.csv', index_col=0)"
   ]
  },
  {
   "cell_type": "code",
   "execution_count": 28,
   "id": "418da96d",
   "metadata": {
    "ExecuteTime": {
     "end_time": "2021-06-06T15:12:39.951425Z",
     "start_time": "2021-06-06T15:12:39.924859Z"
    }
   },
   "outputs": [
    {
     "data": {
      "text/html": [
       "<div>\n",
       "<style scoped>\n",
       "    .dataframe tbody tr th:only-of-type {\n",
       "        vertical-align: middle;\n",
       "    }\n",
       "\n",
       "    .dataframe tbody tr th {\n",
       "        vertical-align: top;\n",
       "    }\n",
       "\n",
       "    .dataframe thead th {\n",
       "        text-align: right;\n",
       "    }\n",
       "</style>\n",
       "<table border=\"1\" class=\"dataframe\">\n",
       "  <thead>\n",
       "    <tr style=\"text-align: right;\">\n",
       "      <th></th>\n",
       "      <th>EmpID</th>\n",
       "      <th>BiasInfluentialFactor</th>\n",
       "      <th>FitmentPercent</th>\n",
       "    </tr>\n",
       "  </thead>\n",
       "  <tbody>\n",
       "    <tr>\n",
       "      <th>0</th>\n",
       "      <td>5664</td>\n",
       "      <td>MaritalStatus</td>\n",
       "      <td>25.14</td>\n",
       "    </tr>\n",
       "    <tr>\n",
       "      <th>1</th>\n",
       "      <td>23568</td>\n",
       "      <td>DegreeBranch</td>\n",
       "      <td>91.44</td>\n",
       "    </tr>\n",
       "    <tr>\n",
       "      <th>2</th>\n",
       "      <td>21490</td>\n",
       "      <td>MartialStatus</td>\n",
       "      <td>76.92</td>\n",
       "    </tr>\n",
       "    <tr>\n",
       "      <th>3</th>\n",
       "      <td>8363</td>\n",
       "      <td>HighestDegree</td>\n",
       "      <td>77.92</td>\n",
       "    </tr>\n",
       "    <tr>\n",
       "      <th>4</th>\n",
       "      <td>6165</td>\n",
       "      <td>Gender</td>\n",
       "      <td>85.64</td>\n",
       "    </tr>\n",
       "    <tr>\n",
       "      <th>5</th>\n",
       "      <td>17679</td>\n",
       "      <td>NaN</td>\n",
       "      <td>41.23</td>\n",
       "    </tr>\n",
       "    <tr>\n",
       "      <th>6</th>\n",
       "      <td>9715</td>\n",
       "      <td>NaN</td>\n",
       "      <td>50.00</td>\n",
       "    </tr>\n",
       "  </tbody>\n",
       "</table>\n",
       "</div>"
      ],
      "text/plain": [
       "   EmpID BiasInfluentialFactor  FitmentPercent\n",
       "0   5664         MaritalStatus           25.14\n",
       "1  23568          DegreeBranch           91.44\n",
       "2  21490         MartialStatus           76.92\n",
       "3   8363         HighestDegree           77.92\n",
       "4   6165                Gender           85.64\n",
       "5  17679                   NaN           41.23\n",
       "6   9715                   NaN           50.00"
      ]
     },
     "execution_count": 28,
     "metadata": {},
     "output_type": "execute_result"
    }
   ],
   "source": [
    "# add sample input\n",
    "sample = pd.read_csv('sample submission.csv')\n",
    "\n",
    "sample"
   ]
  },
  {
   "cell_type": "markdown",
   "id": "611c2163",
   "metadata": {},
   "source": [
    "> Note: According to sample output we have to prediction two different Dependent value \n",
    "1. `BiasInfluentialFactor`\n",
    "    * This data is categorical data therefor use Classification model\n",
    "2. `FitmentPercent`\n",
    "    * This data is Numerical data therefor use Regression model"
   ]
  },
  {
   "cell_type": "code",
   "execution_count": 29,
   "id": "be80e316",
   "metadata": {
    "ExecuteTime": {
     "end_time": "2021-06-06T15:12:39.967223Z",
     "start_time": "2021-06-06T15:12:39.955684Z"
    }
   },
   "outputs": [],
   "source": [
    "# spilt data into x and y on df_machine\n",
    "\n",
    "# Drop Independent data from train data 'BiasInfluentialFactor' and 'FitmentPercent'\n",
    "# And we don't need EmpName for train model drop this column also\n",
    "x = df_train.drop(columns=['BiasInfluentialFactor', 'FitmentPercent', 'EmpName'])\n",
    "\n",
    "# Make two independent data set\n",
    "y_Bias = df_train['BiasInfluentialFactor']\n",
    "y_Fper = df_train['FitmentPercent']"
   ]
  },
  {
   "cell_type": "code",
   "execution_count": 30,
   "id": "85fb9f88",
   "metadata": {
    "ExecuteTime": {
     "end_time": "2021-06-06T15:12:40.029354Z",
     "start_time": "2021-06-06T15:12:39.972210Z"
    }
   },
   "outputs": [],
   "source": [
    "# convert all data in categorical\n",
    "X_dummy = pd.get_dummies(x)"
   ]
  },
  {
   "cell_type": "code",
   "execution_count": 31,
   "id": "438c03b5",
   "metadata": {
    "ExecuteTime": {
     "end_time": "2021-06-06T15:12:40.045082Z",
     "start_time": "2021-06-06T15:12:40.032345Z"
    }
   },
   "outputs": [],
   "source": [
    "# In y_Bias dataset Fill Null value with string 'nan'\n",
    "y_Bias.fillna(value='nan', inplace=True)"
   ]
  },
  {
   "cell_type": "code",
   "execution_count": 32,
   "id": "6d658aa5",
   "metadata": {
    "ExecuteTime": {
     "end_time": "2021-06-06T15:12:40.059861Z",
     "start_time": "2021-06-06T15:12:40.048086Z"
    }
   },
   "outputs": [
    {
     "data": {
      "text/plain": [
       "array(['YearsOfExperince', 'nan', 'Gender', 'DegreeBranch',\n",
       "       'CurrentCompanyType', 'MartialStatus', 'HighestDegree', 'EmpScore',\n",
       "       'Ethinicity', 'LatestDegreeCGPA'], dtype=object)"
      ]
     },
     "execution_count": 32,
     "metadata": {},
     "output_type": "execute_result"
    }
   ],
   "source": [
    "# y_Bias Unique data\n",
    "y_Bias.unique()"
   ]
  },
  {
   "cell_type": "code",
   "execution_count": 33,
   "id": "09d983c5",
   "metadata": {
    "ExecuteTime": {
     "end_time": "2021-06-06T15:12:40.075884Z",
     "start_time": "2021-06-06T15:12:40.062852Z"
    }
   },
   "outputs": [],
   "source": [
    "# Create dictionary for convert Categorical data into Numerical data\n",
    "y_cat = {'nan': 0, \n",
    "         'YearsOfExperince': 1, \n",
    "         'Gender': 2, \n",
    "         'DegreeBranch': 3, \n",
    "         'CurrentCompanyType': 4, \n",
    "         'MartialStatus': 5, \n",
    "         'HighestDegree': 6, \n",
    "         'EmpScore': 7, \n",
    "         'Ethinicity': 8, \n",
    "         'LatestDegreeCGPA': 9}"
   ]
  },
  {
   "cell_type": "code",
   "execution_count": 34,
   "id": "bae0dab8",
   "metadata": {
    "ExecuteTime": {
     "end_time": "2021-06-06T15:12:40.107012Z",
     "start_time": "2021-06-06T15:12:40.079839Z"
    }
   },
   "outputs": [],
   "source": [
    "# y_Bias data Repalce using y_cat and save to y_Bias_cat\n",
    "y_Bias_cat = y_Bias.replace(y_cat)"
   ]
  },
  {
   "cell_type": "code",
   "execution_count": 35,
   "id": "30678b23",
   "metadata": {
    "ExecuteTime": {
     "end_time": "2021-06-06T15:12:40.122487Z",
     "start_time": "2021-06-06T15:12:40.109983Z"
    },
    "scrolled": true
   },
   "outputs": [
    {
     "data": {
      "text/plain": [
       "EmpID\n",
       "11041    1\n",
       "15079    0\n",
       "18638    2\n",
       "3941     2\n",
       "5936     3\n",
       "        ..\n",
       "19504    2\n",
       "17071    0\n",
       "6659     4\n",
       "5986     7\n",
       "4668     1\n",
       "Name: BiasInfluentialFactor, Length: 13645, dtype: int64"
      ]
     },
     "execution_count": 35,
     "metadata": {},
     "output_type": "execute_result"
    }
   ],
   "source": [
    "y_Bias_cat"
   ]
  },
  {
   "cell_type": "markdown",
   "id": "bef111ce",
   "metadata": {},
   "source": [
    "## Run Model"
   ]
  },
  {
   "cell_type": "code",
   "execution_count": 55,
   "id": "fe6118cb",
   "metadata": {
    "ExecuteTime": {
     "end_time": "2021-06-06T16:31:31.258285Z",
     "start_time": "2021-06-06T16:31:31.248275Z"
    }
   },
   "outputs": [],
   "source": [
    "# first add some library\n",
    "from sklearn.model_selection import RandomizedSearchCV, GridSearchCV\n",
    "from sklearn.ensemble import RandomForestClassifier, RandomForestRegressor\n",
    "from sklearn.neighbors import KNeighborsClassifier, KNeighborsRegressor\n",
    "from sklearn.linear_model import LogisticRegression, LinearRegression\n",
    "from sklearn.metrics import accuracy_score, confusion_matrix, f1_score, mean_absolute_error, mean_squared_error\n",
    "from sklearn.metrics import plot_roc_curve, plot_confusion_matrix, classification_report\n",
    "from xgboost import XGBClassifier, XGBRegressor"
   ]
  },
  {
   "cell_type": "code",
   "execution_count": 37,
   "id": "751d5277",
   "metadata": {
    "ExecuteTime": {
     "end_time": "2021-06-06T15:12:41.833820Z",
     "start_time": "2021-06-06T15:12:41.819737Z"
    }
   },
   "outputs": [],
   "source": [
    "# create the models dict\n",
    "\n",
    "models_reg = {'LinearRegression' : LinearRegression(),\n",
    "              'RandomForestRegressor' : RandomForestRegressor(),\n",
    "              'KNeighborsRegressor' : KNeighborsRegressor(),\n",
    "              'XGBRegressor' : XGBRegressor()}\n",
    "\n",
    "models_cla = {'LogisticRegression' : LogisticRegression(),\n",
    "              'RandomForestClassifier' : RandomForestClassifier(),\n",
    "              'KNeighborsClassifier' : KNeighborsClassifier(),\n",
    "              'XGBClassifier' : XGBClassifier()}"
   ]
  },
  {
   "cell_type": "code",
   "execution_count": 38,
   "id": "9d3e9572",
   "metadata": {
    "ExecuteTime": {
     "end_time": "2021-06-06T15:13:13.684686Z",
     "start_time": "2021-06-06T15:12:41.836745Z"
    }
   },
   "outputs": [
    {
     "name": "stderr",
     "output_type": "stream",
     "text": [
      "C:\\Users\\home_\\AppData\\Roaming\\Python\\Python39\\site-packages\\sklearn\\linear_model\\_logistic.py:763: ConvergenceWarning: lbfgs failed to converge (status=1):\n",
      "STOP: TOTAL NO. of ITERATIONS REACHED LIMIT.\n",
      "\n",
      "Increase the number of iterations (max_iter) or scale the data as shown in:\n",
      "    https://scikit-learn.org/stable/modules/preprocessing.html\n",
      "Please also refer to the documentation for alternative solver options:\n",
      "    https://scikit-learn.org/stable/modules/linear_model.html#logistic-regression\n",
      "  n_iter_i = _check_optimize_result(\n",
      "C:\\Users\\home_\\AppData\\Roaming\\Python\\Python39\\site-packages\\xgboost\\sklearn.py:1146: UserWarning: The use of label encoder in XGBClassifier is deprecated and will be removed in a future release. To remove this warning, do the following: 1) Pass option use_label_encoder=False when constructing XGBClassifier object; and 2) Encode your labels (y) as integers starting with 0, i.e. 0, 1, 2, ..., [num_class - 1].\n",
      "  warnings.warn(label_encoder_deprecation_msg, UserWarning)\n"
     ]
    },
    {
     "name": "stdout",
     "output_type": "stream",
     "text": [
      "[20:42:54] WARNING: C:/Users/Administrator/workspace/xgboost-win64_release_1.4.0/src/learner.cc:1095: Starting in XGBoost 1.3.0, the default evaluation metric used with the objective 'multi:softprob' was changed from 'merror' to 'mlogloss'. Explicitly set eval_metric if you'd like to restore the old behavior.\n"
     ]
    },
    {
     "data": {
      "text/plain": [
       "{'LogisticRegression': 0.36350311469402713,\n",
       " 'RandomForestClassifier': 1.0,\n",
       " 'KNeighborsClassifier': 0.6113594723341883,\n",
       " 'XGBClassifier': 0.9770611945767681}"
      ]
     },
     "execution_count": 38,
     "metadata": {},
     "output_type": "execute_result"
    }
   ],
   "source": [
    "# Run classification model\n",
    "\n",
    "# Set the random seed\n",
    "np.random.seed(42)\n",
    "\n",
    "score = {}\n",
    "# FIt and run the model\n",
    "for name, model in models_cla.items():\n",
    "    \n",
    "    # Fit the model\n",
    "    model.fit(X_dummy, y_Bias_cat)\n",
    "    \n",
    "    # check score\n",
    "    score[name] = model.score(X_dummy, y_Bias_cat)\n",
    "    \n",
    "score"
   ]
  },
  {
   "cell_type": "code",
   "execution_count": 39,
   "id": "e4934e39",
   "metadata": {
    "ExecuteTime": {
     "end_time": "2021-06-06T15:13:13.967254Z",
     "start_time": "2021-06-06T15:13:13.691264Z"
    }
   },
   "outputs": [
    {
     "data": {
      "text/plain": [
       "<AxesSubplot:>"
      ]
     },
     "execution_count": 39,
     "metadata": {},
     "output_type": "execute_result"
    },
    {
     "data": {
      "image/png": "[encoded data removed]",
      "text/plain": [
       "<Figure size 432x288 with 1 Axes>"
      ]
     },
     "metadata": {},
     "output_type": "display_data"
    }
   ],
   "source": [
    "# Plot accuracy for Calssification\n",
    "pd.DataFrame(score, index=['accuracy']).T.plot.bar()"
   ]
  },
  {
   "cell_type": "markdown",
   "id": "28e478e8",
   "metadata": {},
   "source": [
    "> Note: According accuracy plot Random Forest Classifier accuracy is very high therefor run model using **`RandomForestClassifier`**"
   ]
  },
  {
   "cell_type": "code",
   "execution_count": 40,
   "id": "93889200",
   "metadata": {
    "ExecuteTime": {
     "end_time": "2021-06-06T15:13:32.451257Z",
     "start_time": "2021-06-06T15:13:13.970753Z"
    }
   },
   "outputs": [
    {
     "data": {
      "text/plain": [
       "{'LinearRegression': 0.19090461439171236,\n",
       " 'RandomForestRegressor': 0.9296781609196285,\n",
       " 'KNeighborsRegressor': 0.35577970531180203,\n",
       " 'XGBRegressor': 0.797371803719307}"
      ]
     },
     "execution_count": 40,
     "metadata": {},
     "output_type": "execute_result"
    }
   ],
   "source": [
    "# Run classification model\n",
    "\n",
    "# Set the random seed\n",
    "np.random.seed(42)\n",
    "\n",
    "score_ = {}\n",
    "# FIt and run the model\n",
    "for name, model in models_reg.items():\n",
    "    \n",
    "    # Fit the model\n",
    "    model.fit(X_dummy, y_Bias_cat)\n",
    "    \n",
    "    # check score\n",
    "    score_[name] = model.score(X_dummy, y_Bias_cat)\n",
    "    \n",
    "score_"
   ]
  },
  {
   "cell_type": "code",
   "execution_count": 41,
   "id": "57b7a6c9",
   "metadata": {
    "ExecuteTime": {
     "end_time": "2021-06-06T15:13:32.702467Z",
     "start_time": "2021-06-06T15:13:32.455149Z"
    }
   },
   "outputs": [
    {
     "data": {
      "text/plain": [
       "<AxesSubplot:>"
      ]
     },
     "execution_count": 41,
     "metadata": {},
     "output_type": "execute_result"
    },
    {
     "data": {
      "image/png": "[encoded data removed]",
      "text/plain": [
       "<Figure size 432x288 with 1 Axes>"
      ]
     },
     "metadata": {},
     "output_type": "display_data"
    }
   ],
   "source": [
    "# PLot accuracy for Regression model\n",
    "pd.DataFrame(score_, index=['accuracy']).T.plot.bar()"
   ]
  },
  {
   "cell_type": "markdown",
   "id": "26eb3b7d",
   "metadata": {},
   "source": [
    "> Note: According accuracy plot Random Forest Regressor accuracy is very high therefor run model using **`RandomForestRegressor`**"
   ]
  },
  {
   "cell_type": "code",
   "execution_count": 42,
   "id": "3b43a488",
   "metadata": {
    "ExecuteTime": {
     "end_time": "2021-06-06T15:13:32.765911Z",
     "start_time": "2021-06-06T15:13:32.705336Z"
    }
   },
   "outputs": [],
   "source": [
    "# Drop EmpName\n",
    "X_test = df_test.drop(columns='EmpName')\n",
    "\n",
    "# Now covert test into categorical format\n",
    "X_test = pd.get_dummies(X_test)"
   ]
  },
  {
   "cell_type": "code",
   "execution_count": 43,
   "id": "bb6108e7",
   "metadata": {
    "ExecuteTime": {
     "end_time": "2021-06-06T15:13:32.796432Z",
     "start_time": "2021-06-06T15:13:32.769902Z"
    }
   },
   "outputs": [
    {
     "data": {
      "text/plain": [
       "array([ True,  True,  True,  True,  True,  True,  True,  True,  True,\n",
       "        True,  True,  True,  True,  True,  True,  True,  True,  True,\n",
       "        True,  True,  True,  True,  True,  True,  True,  True,  True,\n",
       "        True,  True,  True,  True,  True,  True,  True,  True,  True,\n",
       "        True,  True,  True,  True,  True,  True,  True,  True,  True,\n",
       "        True,  True,  True,  True,  True,  True,  True,  True,  True,\n",
       "        True,  True,  True,  True])"
      ]
     },
     "execution_count": 43,
     "metadata": {},
     "output_type": "execute_result"
    }
   ],
   "source": [
    "# Check all columns name save in both training and testing datasets\n",
    "X_dummy.columns == X_test.columns"
   ]
  },
  {
   "cell_type": "code",
   "execution_count": 44,
   "id": "48145c65",
   "metadata": {
    "ExecuteTime": {
     "end_time": "2021-06-06T15:13:35.190650Z",
     "start_time": "2021-06-06T15:13:32.800343Z"
    }
   },
   "outputs": [
    {
     "data": {
      "text/plain": [
       "RandomForestClassifier(random_state=42)"
      ]
     },
     "execution_count": 44,
     "metadata": {},
     "output_type": "execute_result"
    }
   ],
   "source": [
    "# according train data we check all model we have seen that RandomForestClassifier has best score\n",
    "rfc_model = RandomForestClassifier(random_state=42)\n",
    "\n",
    "# Fit the model\n",
    "rfc_model.fit(X_dummy, y_Bias_cat)"
   ]
  },
  {
   "cell_type": "code",
   "execution_count": 45,
   "id": "0e6a7125",
   "metadata": {
    "ExecuteTime": {
     "end_time": "2021-06-06T15:13:49.644092Z",
     "start_time": "2021-06-06T15:13:35.193406Z"
    }
   },
   "outputs": [
    {
     "data": {
      "text/plain": [
       "RandomForestRegressor(random_state=42)"
      ]
     },
     "execution_count": 45,
     "metadata": {},
     "output_type": "execute_result"
    }
   ],
   "source": [
    "# # according train data we check all model we have seen that RandomForestRegressor has best score\n",
    "rfr_model = RandomForestRegressor(random_state=42)\n",
    "\n",
    "# Fit the model\n",
    "rfr_model.fit(X_dummy, y_Fper)"
   ]
  },
  {
   "cell_type": "code",
   "execution_count": 46,
   "id": "a2c04996",
   "metadata": {
    "ExecuteTime": {
     "end_time": "2021-06-06T15:13:49.970905Z",
     "start_time": "2021-06-06T15:13:49.648092Z"
    }
   },
   "outputs": [
    {
     "data": {
      "text/plain": [
       "array([3, 3, 5, ..., 3, 0, 0], dtype=int64)"
      ]
     },
     "execution_count": 46,
     "metadata": {},
     "output_type": "execute_result"
    }
   ],
   "source": [
    "# Predict BiasInfluentialFactor value\n",
    "Bias_pred = rfc_model.predict(X_test)\n",
    "Bias_pred"
   ]
  },
  {
   "cell_type": "code",
   "execution_count": 47,
   "id": "dbee248c",
   "metadata": {
    "ExecuteTime": {
     "end_time": "2021-06-06T15:13:50.282481Z",
     "start_time": "2021-06-06T15:13:49.974897Z"
    }
   },
   "outputs": [
    {
     "data": {
      "text/plain": [
       "array([90.8436, 90.0586, 82.4641, ..., 81.1019, 52.0839, 54.1497])"
      ]
     },
     "execution_count": 47,
     "metadata": {},
     "output_type": "execute_result"
    }
   ],
   "source": [
    "# Predict FitmentPercent\n",
    "Fper_pred = rfr_model.predict(X_test)\n",
    "Fper_pred"
   ]
  },
  {
   "cell_type": "code",
   "execution_count": 48,
   "id": "b295ecc2",
   "metadata": {
    "ExecuteTime": {
     "end_time": "2021-06-06T15:13:50.297661Z",
     "start_time": "2021-06-06T15:13:50.285659Z"
    }
   },
   "outputs": [],
   "source": [
    "# Drop all columns from test dataset\n",
    "Final = df_test.drop(columns=['EmpName', 'LanguageOfCommunication', 'Age', 'Gender',\n",
    "       'JobProfileIDApplyingFor', 'HighestDegree', 'DegreeBranch',\n",
    "       'GraduatingInstitute', 'LatestDegreeCGPA', 'YearsOfExperince',\n",
    "       'GraduationYear', 'CurrentCTC', 'ExpectedCTC', 'MartialStatus',\n",
    "       'EmpScore', 'CurrentDesignation', 'CurrentCompanyType',\n",
    "       'DepartmentInCompany', 'TotalLeavesTaken'])\n",
    "\n",
    "# Create new columns from predict data\n",
    "Final['BiasInfluentialFactor'] = Bias_pred\n",
    "Final['FitmentPercent'] = Fper_pred"
   ]
  },
  {
   "cell_type": "code",
   "execution_count": 49,
   "id": "f5609c26",
   "metadata": {
    "ExecuteTime": {
     "end_time": "2021-06-06T15:13:50.329528Z",
     "start_time": "2021-06-06T15:13:50.300603Z"
    }
   },
   "outputs": [
    {
     "data": {
      "text/html": [
       "<div>\n",
       "<style scoped>\n",
       "    .dataframe tbody tr th:only-of-type {\n",
       "        vertical-align: middle;\n",
       "    }\n",
       "\n",
       "    .dataframe tbody tr th {\n",
       "        vertical-align: top;\n",
       "    }\n",
       "\n",
       "    .dataframe thead th {\n",
       "        text-align: right;\n",
       "    }\n",
       "</style>\n",
       "<table border=\"1\" class=\"dataframe\">\n",
       "  <thead>\n",
       "    <tr style=\"text-align: right;\">\n",
       "      <th></th>\n",
       "      <th>BiasInfluentialFactor</th>\n",
       "      <th>FitmentPercent</th>\n",
       "    </tr>\n",
       "    <tr>\n",
       "      <th>EmpID</th>\n",
       "      <th></th>\n",
       "      <th></th>\n",
       "    </tr>\n",
       "  </thead>\n",
       "  <tbody>\n",
       "    <tr>\n",
       "      <th>5664</th>\n",
       "      <td>DegreeBranch</td>\n",
       "      <td>90.8436</td>\n",
       "    </tr>\n",
       "    <tr>\n",
       "      <th>23568</th>\n",
       "      <td>DegreeBranch</td>\n",
       "      <td>90.0586</td>\n",
       "    </tr>\n",
       "    <tr>\n",
       "      <th>21490</th>\n",
       "      <td>MartialStatus</td>\n",
       "      <td>82.4641</td>\n",
       "    </tr>\n",
       "    <tr>\n",
       "      <th>8363</th>\n",
       "      <td>nan</td>\n",
       "      <td>52.2967</td>\n",
       "    </tr>\n",
       "    <tr>\n",
       "      <th>6165</th>\n",
       "      <td>Gender</td>\n",
       "      <td>78.7223</td>\n",
       "    </tr>\n",
       "    <tr>\n",
       "      <th>...</th>\n",
       "      <td>...</td>\n",
       "      <td>...</td>\n",
       "    </tr>\n",
       "    <tr>\n",
       "      <th>14758</th>\n",
       "      <td>Gender</td>\n",
       "      <td>79.0230</td>\n",
       "    </tr>\n",
       "    <tr>\n",
       "      <th>23544</th>\n",
       "      <td>HighestDegree</td>\n",
       "      <td>79.7750</td>\n",
       "    </tr>\n",
       "    <tr>\n",
       "      <th>16175</th>\n",
       "      <td>DegreeBranch</td>\n",
       "      <td>81.1019</td>\n",
       "    </tr>\n",
       "    <tr>\n",
       "      <th>18458</th>\n",
       "      <td>nan</td>\n",
       "      <td>52.0839</td>\n",
       "    </tr>\n",
       "    <tr>\n",
       "      <th>10036</th>\n",
       "      <td>nan</td>\n",
       "      <td>54.1497</td>\n",
       "    </tr>\n",
       "  </tbody>\n",
       "</table>\n",
       "<p>8745 rows × 2 columns</p>\n",
       "</div>"
      ],
      "text/plain": [
       "      BiasInfluentialFactor  FitmentPercent\n",
       "EmpID                                      \n",
       "5664           DegreeBranch         90.8436\n",
       "23568          DegreeBranch         90.0586\n",
       "21490         MartialStatus         82.4641\n",
       "8363                    nan         52.2967\n",
       "6165                 Gender         78.7223\n",
       "...                     ...             ...\n",
       "14758                Gender         79.0230\n",
       "23544         HighestDegree         79.7750\n",
       "16175          DegreeBranch         81.1019\n",
       "18458                   nan         52.0839\n",
       "10036                   nan         54.1497\n",
       "\n",
       "[8745 rows x 2 columns]"
      ]
     },
     "execution_count": 49,
     "metadata": {},
     "output_type": "execute_result"
    }
   ],
   "source": [
    "# We covert Numerical data to Categorical data\n",
    "reverce_bias = {0: 'nan', \n",
    "                1: 'YearsOfExperince', \n",
    "                2: 'Gender',\n",
    "                3: 'DegreeBranch',\n",
    "                4: 'CurrentCompanyType',\n",
    "                5: 'MartialStatus',\n",
    "                6: 'HighestDegree',\n",
    "                7: 'EmpScore',\n",
    "                8: 'Ethinicity',\n",
    "                9: 'LatestDegreeCGPA'}\n",
    "\n",
    "# Replace data \n",
    "Final.BiasInfluentialFactor = Final['BiasInfluentialFactor'].replace(reverce_bias)\n",
    "Final"
   ]
  },
  {
   "cell_type": "code",
   "execution_count": 51,
   "id": "dce3824a",
   "metadata": {
    "ExecuteTime": {
     "end_time": "2021-06-06T16:23:42.656201Z",
     "start_time": "2021-06-06T16:23:42.611327Z"
    }
   },
   "outputs": [],
   "source": [
    "# Save data into mypredicteddata.csv \n",
    "Final.to_csv('mypredicteddata.csv', index=True, index_label='EmpID')"
   ]
  },
  {
   "cell_type": "code",
   "execution_count": 53,
   "id": "8a7c2e3a",
   "metadata": {
    "ExecuteTime": {
     "end_time": "2021-06-06T16:25:35.133445Z",
     "start_time": "2021-06-06T16:25:34.643755Z"
    }
   },
   "outputs": [],
   "source": [
    "# \n",
    "pred = rfc_model.predict(X_dummy)"
   ]
  },
  {
   "cell_type": "code",
   "execution_count": 54,
   "id": "50db413b",
   "metadata": {
    "ExecuteTime": {
     "end_time": "2021-06-06T16:30:45.858413Z",
     "start_time": "2021-06-06T16:30:45.824460Z"
    }
   },
   "outputs": [
    {
     "name": "stdout",
     "output_type": "stream",
     "text": [
      "[[3336    0    0    0    0    0    0    0    0    0]\n",
      " [   0 1561    0    0    0    0    0    0    0    0]\n",
      " [   0    0 2605    0    0    0    0    0    0    0]\n",
      " [   0    0    0 2858    0    0    0    0    0    0]\n",
      " [   0    0    0    0 1174    0    0    0    0    0]\n",
      " [   0    0    0    0    0  280    0    0    0    0]\n",
      " [   0    0    0    0    0    0  582    0    0    0]\n",
      " [   0    0    0    0    0    0    0  659    0    0]\n",
      " [   0    0    0    0    0    0    0    0  328    0]\n",
      " [   0    0    0    0    0    0    0    0    0  262]]\n"
     ]
    }
   ],
   "source": [
    "# Confusion matrix\n",
    "print(confusion_matrix(y_Bias_cat, pred))"
   ]
  },
  {
   "cell_type": "code",
   "execution_count": 57,
   "id": "8cda472f",
   "metadata": {
    "ExecuteTime": {
     "end_time": "2021-06-06T16:31:55.193350Z",
     "start_time": "2021-06-06T16:31:55.152463Z"
    }
   },
   "outputs": [
    {
     "name": "stdout",
     "output_type": "stream",
     "text": [
      "              precision    recall  f1-score   support\n",
      "\n",
      "           0       1.00      1.00      1.00      3336\n",
      "           1       1.00      1.00      1.00      1561\n",
      "           2       1.00      1.00      1.00      2605\n",
      "           3       1.00      1.00      1.00      2858\n",
      "           4       1.00      1.00      1.00      1174\n",
      "           5       1.00      1.00      1.00       280\n",
      "           6       1.00      1.00      1.00       582\n",
      "           7       1.00      1.00      1.00       659\n",
      "           8       1.00      1.00      1.00       328\n",
      "           9       1.00      1.00      1.00       262\n",
      "\n",
      "    accuracy                           1.00     13645\n",
      "   macro avg       1.00      1.00      1.00     13645\n",
      "weighted avg       1.00      1.00      1.00     13645\n",
      "\n"
     ]
    }
   ],
   "source": [
    "# Confusion matrix\n",
    "print(classification_report(y_Bias_cat, pred))"
   ]
  },
  {
   "cell_type": "code",
   "execution_count": 58,
   "id": "421d7d87",
   "metadata": {
    "ExecuteTime": {
     "end_time": "2021-06-06T16:33:06.649251Z",
     "start_time": "2021-06-06T16:33:06.016316Z"
    }
   },
   "outputs": [],
   "source": [
    "preds = rfr_model.predict(X_dummy)"
   ]
  },
  {
   "cell_type": "code",
   "execution_count": 61,
   "id": "4cf34fcd",
   "metadata": {
    "ExecuteTime": {
     "end_time": "2021-06-06T16:33:46.923118Z",
     "start_time": "2021-06-06T16:33:46.890174Z"
    }
   },
   "outputs": [
    {
     "ename": "ValueError",
     "evalue": "continuous is not supported",
     "output_type": "error",
     "traceback": [
      "\u001b[1;31m---------------------------------------------------------------------------\u001b[0m",
      "\u001b[1;31mValueError\u001b[0m                                Traceback (most recent call last)",
      "\u001b[1;32m<ipython-input-61-0006d6917fb1>\u001b[0m in \u001b[0;36m<module>\u001b[1;34m\u001b[0m\n\u001b[1;32m----> 1\u001b[1;33m \u001b[0mprint\u001b[0m\u001b[1;33m(\u001b[0m\u001b[0mconfusion_matrix\u001b[0m\u001b[1;33m(\u001b[0m\u001b[0my_Fper\u001b[0m\u001b[1;33m,\u001b[0m \u001b[0mpreds\u001b[0m\u001b[1;33m)\u001b[0m\u001b[1;33m)\u001b[0m\u001b[1;33m\u001b[0m\u001b[1;33m\u001b[0m\u001b[0m\n\u001b[0m",
      "\u001b[1;32m~\\AppData\\Roaming\\Python\\Python39\\site-packages\\sklearn\\utils\\validation.py\u001b[0m in \u001b[0;36minner_f\u001b[1;34m(*args, **kwargs)\u001b[0m\n\u001b[0;32m     61\u001b[0m             \u001b[0mextra_args\u001b[0m \u001b[1;33m=\u001b[0m \u001b[0mlen\u001b[0m\u001b[1;33m(\u001b[0m\u001b[0margs\u001b[0m\u001b[1;33m)\u001b[0m \u001b[1;33m-\u001b[0m \u001b[0mlen\u001b[0m\u001b[1;33m(\u001b[0m\u001b[0mall_args\u001b[0m\u001b[1;33m)\u001b[0m\u001b[1;33m\u001b[0m\u001b[1;33m\u001b[0m\u001b[0m\n\u001b[0;32m     62\u001b[0m             \u001b[1;32mif\u001b[0m \u001b[0mextra_args\u001b[0m \u001b[1;33m<=\u001b[0m \u001b[1;36m0\u001b[0m\u001b[1;33m:\u001b[0m\u001b[1;33m\u001b[0m\u001b[1;33m\u001b[0m\u001b[0m\n\u001b[1;32m---> 63\u001b[1;33m                 \u001b[1;32mreturn\u001b[0m \u001b[0mf\u001b[0m\u001b[1;33m(\u001b[0m\u001b[1;33m*\u001b[0m\u001b[0margs\u001b[0m\u001b[1;33m,\u001b[0m \u001b[1;33m**\u001b[0m\u001b[0mkwargs\u001b[0m\u001b[1;33m)\u001b[0m\u001b[1;33m\u001b[0m\u001b[1;33m\u001b[0m\u001b[0m\n\u001b[0m\u001b[0;32m     64\u001b[0m \u001b[1;33m\u001b[0m\u001b[0m\n\u001b[0;32m     65\u001b[0m             \u001b[1;31m# extra_args > 0\u001b[0m\u001b[1;33m\u001b[0m\u001b[1;33m\u001b[0m\u001b[1;33m\u001b[0m\u001b[0m\n",
      "\u001b[1;32m~\\AppData\\Roaming\\Python\\Python39\\site-packages\\sklearn\\metrics\\_classification.py\u001b[0m in \u001b[0;36mconfusion_matrix\u001b[1;34m(y_true, y_pred, labels, sample_weight, normalize)\u001b[0m\n\u001b[0;32m    297\u001b[0m \u001b[1;33m\u001b[0m\u001b[0m\n\u001b[0;32m    298\u001b[0m     \"\"\"\n\u001b[1;32m--> 299\u001b[1;33m     \u001b[0my_type\u001b[0m\u001b[1;33m,\u001b[0m \u001b[0my_true\u001b[0m\u001b[1;33m,\u001b[0m \u001b[0my_pred\u001b[0m \u001b[1;33m=\u001b[0m \u001b[0m_check_targets\u001b[0m\u001b[1;33m(\u001b[0m\u001b[0my_true\u001b[0m\u001b[1;33m,\u001b[0m \u001b[0my_pred\u001b[0m\u001b[1;33m)\u001b[0m\u001b[1;33m\u001b[0m\u001b[1;33m\u001b[0m\u001b[0m\n\u001b[0m\u001b[0;32m    300\u001b[0m     \u001b[1;32mif\u001b[0m \u001b[0my_type\u001b[0m \u001b[1;32mnot\u001b[0m \u001b[1;32min\u001b[0m \u001b[1;33m(\u001b[0m\u001b[1;34m\"binary\"\u001b[0m\u001b[1;33m,\u001b[0m \u001b[1;34m\"multiclass\"\u001b[0m\u001b[1;33m)\u001b[0m\u001b[1;33m:\u001b[0m\u001b[1;33m\u001b[0m\u001b[1;33m\u001b[0m\u001b[0m\n\u001b[0;32m    301\u001b[0m         \u001b[1;32mraise\u001b[0m \u001b[0mValueError\u001b[0m\u001b[1;33m(\u001b[0m\u001b[1;34m\"%s is not supported\"\u001b[0m \u001b[1;33m%\u001b[0m \u001b[0my_type\u001b[0m\u001b[1;33m)\u001b[0m\u001b[1;33m\u001b[0m\u001b[1;33m\u001b[0m\u001b[0m\n",
      "\u001b[1;32m~\\AppData\\Roaming\\Python\\Python39\\site-packages\\sklearn\\metrics\\_classification.py\u001b[0m in \u001b[0;36m_check_targets\u001b[1;34m(y_true, y_pred)\u001b[0m\n\u001b[0;32m     98\u001b[0m     \u001b[1;31m# No metrics support \"multiclass-multioutput\" format\u001b[0m\u001b[1;33m\u001b[0m\u001b[1;33m\u001b[0m\u001b[1;33m\u001b[0m\u001b[0m\n\u001b[0;32m     99\u001b[0m     \u001b[1;32mif\u001b[0m \u001b[1;33m(\u001b[0m\u001b[0my_type\u001b[0m \u001b[1;32mnot\u001b[0m \u001b[1;32min\u001b[0m \u001b[1;33m[\u001b[0m\u001b[1;34m\"binary\"\u001b[0m\u001b[1;33m,\u001b[0m \u001b[1;34m\"multiclass\"\u001b[0m\u001b[1;33m,\u001b[0m \u001b[1;34m\"multilabel-indicator\"\u001b[0m\u001b[1;33m]\u001b[0m\u001b[1;33m)\u001b[0m\u001b[1;33m:\u001b[0m\u001b[1;33m\u001b[0m\u001b[1;33m\u001b[0m\u001b[0m\n\u001b[1;32m--> 100\u001b[1;33m         \u001b[1;32mraise\u001b[0m \u001b[0mValueError\u001b[0m\u001b[1;33m(\u001b[0m\u001b[1;34m\"{0} is not supported\"\u001b[0m\u001b[1;33m.\u001b[0m\u001b[0mformat\u001b[0m\u001b[1;33m(\u001b[0m\u001b[0my_type\u001b[0m\u001b[1;33m)\u001b[0m\u001b[1;33m)\u001b[0m\u001b[1;33m\u001b[0m\u001b[1;33m\u001b[0m\u001b[0m\n\u001b[0m\u001b[0;32m    101\u001b[0m \u001b[1;33m\u001b[0m\u001b[0m\n\u001b[0;32m    102\u001b[0m     \u001b[1;32mif\u001b[0m \u001b[0my_type\u001b[0m \u001b[1;32min\u001b[0m \u001b[1;33m[\u001b[0m\u001b[1;34m\"binary\"\u001b[0m\u001b[1;33m,\u001b[0m \u001b[1;34m\"multiclass\"\u001b[0m\u001b[1;33m]\u001b[0m\u001b[1;33m:\u001b[0m\u001b[1;33m\u001b[0m\u001b[1;33m\u001b[0m\u001b[0m\n",
      "\u001b[1;31mValueError\u001b[0m: continuous is not supported"
     ]
    }
   ],
   "source": [
    "print(confusion_matrix(y_Fper, preds))"
   ]
  },
  {
   "cell_type": "code",
   "execution_count": null,
   "id": "555a84c8",
   "metadata": {},
   "outputs": [],
   "source": []
  }
 ],
 "metadata": {
  "kernelspec": {
   "display_name": "Python 3",
   "language": "python",
   "name": "python3"
  },
  "language_info": {
   "codemirror_mode": {
    "name": "ipython",
    "version": 3
   },
   "file_extension": ".py",
   "mimetype": "text/x-python",
   "name": "python",
   "nbconvert_exporter": "python",
   "pygments_lexer": "ipython3",
   "version": "3.9.5"
  },
  "toc": {
   "base_numbering": 1,
   "nav_menu": {},
   "number_sections": true,
   "sideBar": true,
   "skip_h1_title": false,
   "title_cell": "Table of Contents",
   "title_sidebar": "Contents",
   "toc_cell": false,
   "toc_position": {},
   "toc_section_display": true,
   "toc_window_display": false
  },
  "varInspector": {
   "cols": {
    "lenName": 16,
    "lenType": 16,
    "lenVar": 40
   },
   "kernels_config": {
    "python": {
     "delete_cmd_postfix": "",
     "delete_cmd_prefix": "del ",
     "library": "var_list.py",
     "varRefreshCmd": "print(var_dic_list())"
    },
    "r": {
     "delete_cmd_postfix": ") ",
     "delete_cmd_prefix": "rm(",
     "library": "var_list.r",
     "varRefreshCmd": "cat(var_dic_list()) "
    }
   },
   "types_to_exclude": [
    "module",
    "function",
    "builtin_function_or_method",
    "instance",
    "_Feature"
   ],
   "window_display": false
  }
 },
 "nbformat": 4,
 "nbformat_minor": 5
}
